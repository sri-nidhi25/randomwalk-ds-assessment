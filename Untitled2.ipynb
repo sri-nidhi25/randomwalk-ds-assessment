{
  "nbformat": 4,
  "nbformat_minor": 0,
  "metadata": {
    "colab": {
      "provenance": []
    },
    "kernelspec": {
      "name": "python3",
      "display_name": "Python 3"
    },
    "language_info": {
      "name": "python"
    }
  },
  "cells": [
    {
      "cell_type": "code",
      "execution_count": 82,
      "metadata": {
        "id": "c5ZqK636LWWM"
      },
      "outputs": [],
      "source": [
        "import pandas as pd\n",
        "import numpy as np\n",
        "import matplotlib.pyplot as plt\n",
        "s=pd.read_csv(\"/content/ramp.csv\")"
      ]
    },
    {
      "cell_type": "code",
      "source": [
        "#1.How many rows and columns are there in books.csv dataset?\n",
        "\n",
        "a=s.shape[0]\n",
        "b=s.shape[1]\n",
        "print(f\"Number of rows:{a}\")\n",
        "print(f\"Number of columns:{b}\")"
      ],
      "metadata": {
        "colab": {
          "base_uri": "https://localhost:8080/"
        },
        "id": "E5dwvfEsMYye",
        "outputId": "aef2e078-a7e2-4403-d10b-3e4c868e9b58"
      },
      "execution_count": 76,
      "outputs": [
        {
          "output_type": "stream",
          "name": "stdout",
          "text": [
            "Number of rows:399\n",
            "Number of columns:24\n"
          ]
        }
      ]
    },
    {
      "cell_type": "code",
      "source": [
        " #2.How many books do not have an original title?\n",
        "\n",
        "c=s[s['original_title'].isnull()]['title'].count()\n",
        "print(f\"Books that dont have an org title:{c}\")\n"
      ],
      "metadata": {
        "colab": {
          "base_uri": "https://localhost:8080/"
        },
        "id": "R-ggDvn5NTDI",
        "outputId": "ef978730-076f-4f66-a6b9-543b941086d2"
      },
      "execution_count": 77,
      "outputs": [
        {
          "output_type": "stream",
          "name": "stdout",
          "text": [
            "Books that dont have an org title:36\n"
          ]
        }
      ]
    },
    {
      "cell_type": "code",
      "source": [
        "#3.How many unique books are present in the dataset ? Evaluate based on the 'book_id' after removing null values in the original_title column.\n",
        "\n",
        "z= s.dropna(subset=['original_title'])\n",
        "m = z['book_id'].nunique()\n",
        "print(f\"Number of unique books: {m}\")"
      ],
      "metadata": {
        "colab": {
          "base_uri": "https://localhost:8080/"
        },
        "id": "xTuKZui0Nk8N",
        "outputId": "a9e27d8d-7ac8-4327-98b3-8d077b9855d6"
      },
      "execution_count": 78,
      "outputs": [
        {
          "output_type": "stream",
          "name": "stdout",
          "text": [
            "Number of unique books: 363\n"
          ]
        }
      ]
    },
    {
      "cell_type": "code",
      "source": [
        "#4.What is the average rating of all the books in the dataset based on ‘average_rating’?\n",
        "\n",
        "l= s.dropna(subset=['average_rating'])\n",
        "p = l['average_rating'].mean()\n",
        "print(f\"Mean rating of all the books in the dataset: {p}\")"
      ],
      "metadata": {
        "colab": {
          "base_uri": "https://localhost:8080/"
        },
        "id": "F7ipbkE1OHOs",
        "outputId": "fa778a49-6f21-40b5-9845-ffe0f7de75ea"
      },
      "execution_count": 79,
      "outputs": [
        {
          "output_type": "stream",
          "name": "stdout",
          "text": [
            "Mean rating of all the books in the dataset: 3.9837844611528817\n"
          ]
        }
      ]
    },
    {
      "cell_type": "code",
      "source": [
        "#5.Find the number of books published in the year ‘2000’ based on the ‘original_publication_year’.\n",
        "\n",
        "n= s[s['original_publication_year'] == 2000]\n",
        "h = len(n)\n",
        "print(f\"Number of books published in the year 2000: {h}\")"
      ],
      "metadata": {
        "colab": {
          "base_uri": "https://localhost:8080/"
        },
        "id": "tkt3E2bET4zh",
        "outputId": "d5972170-1e70-4639-8e7f-74189cafb9d0"
      },
      "execution_count": 80,
      "outputs": [
        {
          "output_type": "stream",
          "name": "stdout",
          "text": [
            "Number of books published in the year 2000: 8\n"
          ]
        }
      ]
    },
    {
      "cell_type": "code",
      "source": [
        "#6.Which book (title) has the maximum number of ratings based on ‘work_ratings_count’.\n",
        "\n",
        "t= s.sort_values(by='work_ratings_count', ascending=False)\n",
        "s = t.iloc[0]['original_title']\n",
        "print(f\"Book with max number of ratings: {s}\")"
      ],
      "metadata": {
        "colab": {
          "base_uri": "https://localhost:8080/"
        },
        "id": "ImcEovDXRwng",
        "outputId": "e95fdb6e-4910-4a77-baaa-85911d85160a"
      },
      "execution_count": 81,
      "outputs": [
        {
          "output_type": "stream",
          "name": "stdout",
          "text": [
            "Book with max number of ratings: Het Achterhuis: Dagboekbrieven 14 juni 1942 - 1 augustus 1944\n"
          ]
        }
      ]
    },
    {
      "cell_type": "code",
      "source": [
        "#7.Bucket the average_rating of books into 11 buckets [0, 0.5, 1.0, 1.5, 2.0, 2.5, 3.0, 3.5, 4.0, 4.5, 5.0] with 0.5 decimal rounding (eg: average_rating 3.0 to 3.49 will fall in bucket 3.0). Plot bar graph to show total number of books in each rating bucket.\n",
        "\n",
        "\n",
        "buckets = np.arange(0, 5.5, 0.5)\n",
        "s['rating_bucket'] = pd.cut(t['average_rating'], buckets, labels=buckets[:-1], include_lowest=True)\n",
        "rating_counts = s['rating_bucket'].value_counts()\n",
        "plt.figure(figsize=(12, 8))\n",
        "plt.bar(rating_counts.index, rating_counts.values,color=\"purple\")\n",
        "plt.xlabel('Rating Bucket')\n",
        "plt.ylabel('No of Books')\n",
        "plt.title('No of Books in Each Rating Bucket')\n",
        "plt.show()"
      ],
      "metadata": {
        "colab": {
          "base_uri": "https://localhost:8080/",
          "height": 718
        },
        "id": "u7VtPzkXR6d5",
        "outputId": "a2cad771-48cf-4a59-8fec-614af0808fc1"
      },
      "execution_count": 83,
      "outputs": [
        {
          "output_type": "display_data",
          "data": {
            "text/plain": [
              "<Figure size 1200x800 with 1 Axes>"
            ],
            "image/png": "[encoded data removed]"
          },
          "metadata": {}
        }
      ]
    }
  ]
}